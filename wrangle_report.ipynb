{
 "cells": [
  {
   "cell_type": "markdown",
   "metadata": {},
   "source": [
    "## Reporting: wragle_report\n",
    "* Create a **300-600 word written report** called \"wrangle_report.pdf\" or \"wrangle_report.html\" that briefly describes your wrangling efforts. This is to be framed as an internal document."
   ]
  },
  {
   "cell_type": "markdown",
   "metadata": {},
   "source": [
    "# Data Wrangling of 'WeRateDog' Twitter Dataset"
   ]
  },
  {
   "cell_type": "markdown",
   "metadata": {},
   "source": [
    "Data in its raw form is not useful for analysis and predictions. Data wrangling is the processing of transforming raw data to useable data for data analysis and machine learning predictions. If data wrangling is not properly carried out, it will lead to false conlusion which will affect the decisions and insights drawn from it.\n",
    "\n",
    "This project was carried out to demonstrate data wrangling process on 'WeRateDog' twitter dataset. The data wrangling procedure was divided into three stages; gathering, assessing and cleaning."
   ]
  },
  {
   "cell_type": "markdown",
   "metadata": {},
   "source": [
    "## Data Gathering"
   ]
  },
  {
   "cell_type": "markdown",
   "metadata": {},
   "source": [
    "The data used for this project was collected from three different sources. The first data (twitter_archive.csv) was provided in the working environment. The twitter_archive_csv was read to dataframe using the pandas pd.read_csv() method. \n",
    "\n",
    "The link to the second dataset (image_prediction.tsv) was provided which the request library was used to get the file, the os library was used to store the data into the working environment and pandas read method was used to load the data into dataframe.\n",
    "\n",
    "The last dataset (tweet_json.txt) for the project was supposed to be downloaded by querying the Twitter API using the tweepy library but I used the provided file since I could not obtain the Twitter developers' account. I extracted the needed information (tweet_id, retweet_count and favorite_count) from the json file using the json library and the data was loaded to dataframe using the pandas read method."
   ]
  },
  {
   "cell_type": "markdown",
   "metadata": {},
   "source": [
    "## Data Assessment"
   ]
  },
  {
   "cell_type": "markdown",
   "metadata": {},
   "source": [
    "Once all the required data have been successfully loaded, data assessment was performed on the each dataframe to inspect how messy or dirty the data is. Both visual and programmatic assesment was carried out each dataset to uncovery any quality or tidiness issue in the dataframe. Although the amount of quality and tidiness issue in the datasets are many, only eight (8) quality issues and two (2) tidiness issue were recorded for cleaning."
   ]
  },
  {
   "cell_type": "markdown",
   "metadata": {},
   "source": [
    "### Quality issues\n",
    "#### twitter_archive table\n",
    "1. Missing values in some columns (in_reply_to_status_id, in_reply_to_user_id, retweeted_status_id, retweeted_status_user_id, retweeted_status_timestamp)\n",
    "\n",
    "2. Improper names in the name column ('a', 'actually', 'all', 'an', 'by', 'getting', 'his', 'incredibly', 'infuriating', 'just', 'my', 'not', 'None', 'officially', 'one', 'quite', 'space', 'such', 'the', 'this', 'unacceptable', 'very')\n",
    "\n",
    "3. timestamp is string not datetime\n",
    "\n",
    "4. tweet_id should be in string not int\n",
    "\n",
    "5. original ratings only with no retweets that have images\n",
    "\n",
    "6. source column should be category not object\n",
    "\n",
    "7. source column contain url\n",
    "\n",
    "#### image_prediction table\n",
    "\n",
    "8. Mixed uppercase and lowercase value in columns p1, p2, and p3\n",
    "\n",
    "\n",
    "### Tidiness issues\n",
    "1. One column (dog_stage) spread in four columns ('doggo', 'floofer', 'pupper', 'puppo')\n",
    "\n",
    "2. twitter_api_df should part of tweet_archive_df"
   ]
  },
  {
   "cell_type": "markdown",
   "metadata": {},
   "source": [
    "## Data cleaning"
   ]
  },
  {
   "cell_type": "markdown",
   "metadata": {},
   "source": [
    "All the documented tidness and quality issues discovered during the data assessment stage were cleaned. First, retweet values present in the twitter_archive_df were removed since we only need the original tweet for analysis. Next, the column with large missing values were dropped from the dataframe using the pandas drop() method.\n",
    "\n",
    "After the missing values issues were addressed, the two tidiness issues were taken care of. The pd.melt() function was used to collapse four columns ('doggo', 'floofer', 'pupper', 'puppo') into two ('stage', 'dog_stage'). Subsequently, the 'stage' column was dropped and the duplicate values were removed from the dataframe. Then, two dataframes (twitter_archive_df and tweet_count_df) were merged into one dataframe (twitter_archive_count_df) since two tables contains information about tweets.\n",
    "\n",
    "Once the tidiness issues have been addressed, the remaining quality issues were resolved. The source values were extracted from in the 'source' column using the str.extract() method. Improper names present in the name column were replaced with 'NaN' value and wrong datatypes were changed to their correct datatypes."
   ]
  }
 ],
 "metadata": {
  "kernelspec": {
   "display_name": "Python 3 (ipykernel)",
   "language": "python",
   "name": "python3"
  },
  "language_info": {
   "codemirror_mode": {
    "name": "ipython",
    "version": 3
   },
   "file_extension": ".py",
   "mimetype": "text/x-python",
   "name": "python",
   "nbconvert_exporter": "python",
   "pygments_lexer": "ipython3",
   "version": "3.9.12"
  }
 },
 "nbformat": 4,
 "nbformat_minor": 4
}
